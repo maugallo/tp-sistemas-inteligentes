{
 "cells": [
  {
   "cell_type": "code",
   "execution_count": null,
   "id": "10e6e384",
   "metadata": {},
   "outputs": [],
   "source": [
    "## AUXILIAR: IMPORTS GLOBALES\n",
    "import pandas as pd\n",
    "import matplotlib.pyplot as plt\n",
    "\n",
    "from sklearn.pipeline import Pipeline\n",
    "from sklearn.preprocessing import StandardScaler\n",
    "from sklearn.linear_model import LogisticRegression\n",
    "from sklearn.neighbors import KNeighborsClassifier\n",
    "from sklearn.ensemble import RandomForestClassifier\n",
    "from sklearn.calibration import cross_val_predict\n",
    "from sklearn.model_selection import train_test_split, GridSearchCV, StratifiedKFold\n",
    "from sklearn.metrics import accuracy_score, precision_score, recall_score, f1_score, confusion_matrix"
   ]
  },
  {
   "cell_type": "code",
   "execution_count": null,
   "id": "9ff98a26",
   "metadata": {},
   "outputs": [],
   "source": [
    "## AUXILIAR: Muestra los resultados de cada modelo.\n",
    "\n",
    "# Se toma como positivo la columna Introvertido (valor 0), dado que es la que menos balance tiene entre ambos.\n",
    "def show_results(clasificador_real, clasificador_predicho, title):\n",
    "    print(f\"\\n{title}:\")\n",
    "    print(\"Accuracy :\", accuracy_score(clasificador_real, clasificador_predicho))\n",
    "    print(\"Precision:\", precision_score(clasificador_real, clasificador_predicho, pos_label=0))\n",
    "    print(\"Recall   :\", recall_score(clasificador_real, clasificador_predicho, pos_label=0))\n",
    "    print(\"F1 Score :\", f1_score(clasificador_real, clasificador_predicho, pos_label=0))\n",
    "\n",
    "    print(\"\\nMatriz de confusión:\")\n",
    "    print(confusion_matrix(clasificador_real, clasificador_predicho))"
   ]
  },
  {
   "cell_type": "code",
   "execution_count": 3,
   "id": "92984373",
   "metadata": {},
   "outputs": [],
   "source": [
    "## AUXILIAR: División en training set y test set. (Split 80-20)\n",
    "\n",
    "\"\"\" \n",
    "Dado que el desbalanceo del dataset es casi inexistente,\n",
    "se aplicará directamente una división 80-20.\n",
    "\"\"\"\n",
    "\n",
    "def split_80_20(dataset: pd.DataFrame):\n",
    "    # Separar atributos y atributo clasificador del dataset transformado.\n",
    "    atributos = dataset.drop(\"Personality\", axis=1)\n",
    "    clasificador = dataset[\"Personality\"]\n",
    "\n",
    "    # Dividir en 80% entrenamiento, 20% test.\n",
    "\n",
    "    \"\"\"\n",
    "    test_size=0.2 Significa que el 20% del dataset se usa para testing, y lo restante para training.\n",
    "    random_state=42 Es una seed para generar números aleatorios, permite que el split sea reproducible (siempre da la misma división exacta). Si no se coloca nada, en cada ejecución divide distinto.\n",
    "    stratify=clasificador Sirve para mantener la proporción de clases igual en ambos sets. Es decir, si tengo 52% de extrovertidos y 48% de introvertidos en el dataset, al dividirlo el training set y el test set tendrán ese mismo balance. Sin esto, puede pasar que el test set termine con muchas más instancias de una clase.\n",
    "    \"\"\"\n",
    "\n",
    "    atributos_train, atributos_test, clasificador_train, clasificador_test = train_test_split(\n",
    "        atributos, clasificador, \n",
    "        test_size=0.2, random_state=42, \n",
    "        stratify=clasificador\n",
    "    )\n",
    "\n",
    "    return atributos_train, atributos_test, clasificador_train, clasificador_test\n"
   ]
  },
  {
   "cell_type": "code",
   "execution_count": 4,
   "id": "2a47ccb5",
   "metadata": {},
   "outputs": [],
   "source": [
    "## AUXILIAR: Verificar desbalanceo de dataset\n",
    "\n",
    "def verificar_desbalanceo(dataset):\n",
    "    # Revisar desbalanceo del dataset.\n",
    "    print(\"\\nPorcentaje de casos que hay en cada clase de atributo clasificador:\")\n",
    "    print(dataset[\"Personality\"].value_counts(normalize=True))\n",
    "\n",
    "    # Verificación gráfica\n",
    "    dataset[\"Personality\"].value_counts().plot(kind=\"bar\", title=\"Distribución de clases\", color=[\"steelblue\", \"salmon\"])\n",
    "    plt.xticks(rotation=0)\n",
    "    plt.ylabel(\"Cantidad\")\n",
    "    plt.xlabel(\"Clase (0 = Introvertido, 1 = Extrovertido)\")\n",
    "    plt.grid(axis='y')\n",
    "    plt.show()"
   ]
  },
  {
   "cell_type": "code",
   "execution_count": 5,
   "id": "bcec3fa7",
   "metadata": {},
   "outputs": [],
   "source": [
    "# Carga de datos.\n",
    "dataset = pd.read_csv('../datasets/personality.csv')"
   ]
  },
  {
   "cell_type": "markdown",
   "id": "1a5e4a35",
   "metadata": {},
   "source": [
    "#### LIMPIEZA\n",
    "Se revisan tipos, nulos y duplicados para asegurar consistencia del dataset.\n",
    "\n",
    "Se imputan numéricas con mediana (robusta a outliers) y categóricas con moda (categoría representativa) para no perder filas."
   ]
  },
  {
   "cell_type": "code",
   "execution_count": 6,
   "id": "3f697847",
   "metadata": {},
   "outputs": [
    {
     "name": "stdout",
     "output_type": "stream",
     "text": [
      "\n",
      "Info general del dataset:\n",
      "<class 'pandas.core.frame.DataFrame'>\n",
      "RangeIndex: 2900 entries, 0 to 2899\n",
      "Data columns (total 8 columns):\n",
      " #   Column                     Non-Null Count  Dtype  \n",
      "---  ------                     --------------  -----  \n",
      " 0   Time_spent_Alone           2837 non-null   float64\n",
      " 1   Stage_fear                 2827 non-null   object \n",
      " 2   Social_event_attendance    2838 non-null   float64\n",
      " 3   Going_outside              2834 non-null   float64\n",
      " 4   Drained_after_socializing  2848 non-null   object \n",
      " 5   Friends_circle_size        2823 non-null   float64\n",
      " 6   Post_frequency             2835 non-null   float64\n",
      " 7   Personality                2900 non-null   object \n",
      "dtypes: float64(5), object(3)\n",
      "memory usage: 181.4+ KB\n",
      "\n",
      "Valores faltantes por atributo:\n",
      "Friends_circle_size          77\n",
      "Stage_fear                   73\n",
      "Going_outside                66\n",
      "Post_frequency               65\n",
      "Time_spent_Alone             63\n",
      "Social_event_attendance      62\n",
      "Drained_after_socializing    52\n",
      "Personality                   0\n",
      "dtype: int64\n",
      "Filas duplicadas: 388\n"
     ]
    }
   ],
   "source": [
    "# Análisis Exploratorio.\n",
    "\n",
    "print(\"\\nInfo general del dataset:\")\n",
    "dataset.head()\n",
    "dataset.info()\n",
    "\n",
    "print(\"\\nValores faltantes por atributo:\")\n",
    "print(dataset.isnull().sum().sort_values(ascending=False))\n",
    "\n",
    "print(\"Filas duplicadas:\", dataset.duplicated().sum())"
   ]
  },
  {
   "cell_type": "code",
   "execution_count": 7,
   "id": "fcc721b1",
   "metadata": {},
   "outputs": [
    {
     "name": "stdout",
     "output_type": "stream",
     "text": [
      "\n",
      "Porcentaje de casos que hay en cada clase de atributo clasificador:\n",
      "Personality\n",
      "Extrovert    0.514138\n",
      "Introvert    0.485862\n",
      "Name: proportion, dtype: float64\n"
     ]
    },
    {
     "data": {
      "image/png": "[encoded data removed]",
      "text/plain": [
       "<Figure size 640x480 with 1 Axes>"
      ]
     },
     "metadata": {},
     "output_type": "display_data"
    }
   ],
   "source": [
    "# Verificar desbalanceo de dataset\n",
    "verificar_desbalanceo(dataset)"
   ]
  },
  {
   "cell_type": "code",
   "execution_count": 9,
   "id": "df5d8536",
   "metadata": {},
   "outputs": [
    {
     "data": {
      "text/plain": [
       "' # Eliminar duplicados\\n\\n# Se concluye que dada la naturaleza de donde proviene el dataset\\n# (formulario, donde cada persona ingresa al final si considera ella misma\\n# extrovertido o introvertido) conviene más dejar los duplicados por dos razones:\\n# 1. Es común en un formulario que hayan respuesta idénticas, es algo que puede ocurrir.\\n# 2. Las respuestas idénticas refuerzan el patrón de que una persona es Extrovertida o\\n# Introvertida de acuerdo con los features que tienen, por ende conviene dejarlas.\\n\\ndataset = dataset.drop_duplicates(keep=\\'first\\')\\nprint(\"Filas duplicadas:\", dataset.duplicated().sum())\\n\\n# Verificar desbalanceo de dataset\\nverificar_desbalanceo(dataset) '"
      ]
     },
     "execution_count": 9,
     "metadata": {},
     "output_type": "execute_result"
    }
   ],
   "source": [
    "\"\"\" # Eliminar duplicados\n",
    "\n",
    "# Se concluye que dada la naturaleza de donde proviene el dataset\n",
    "# (formulario, donde cada persona ingresa al final si considera ella misma\n",
    "# extrovertido o introvertido) conviene más dejar los duplicados por dos razones:\n",
    "# 1. Es común en un formulario que hayan respuesta idénticas, es algo que puede ocurrir.\n",
    "# 2. Las respuestas idénticas refuerzan el patrón de que una persona es Extrovertida o\n",
    "# Introvertida de acuerdo con los features que tienen, por ende conviene dejarlas.\n",
    "\n",
    "dataset = dataset.drop_duplicates(keep='first')\n",
    "print(\"Filas duplicadas:\", dataset.duplicated().sum())\n",
    "\n",
    "# Verificar desbalanceo de dataset\n",
    "verificar_desbalanceo(dataset) \"\"\""
   ]
  },
  {
   "cell_type": "code",
   "execution_count": 10,
   "id": "d184a449",
   "metadata": {},
   "outputs": [
    {
     "name": "stdout",
     "output_type": "stream",
     "text": [
      "\n",
      "Valores faltantes por atributo:\n",
      "Time_spent_Alone             0\n",
      "Stage_fear                   0\n",
      "Social_event_attendance      0\n",
      "Going_outside                0\n",
      "Drained_after_socializing    0\n",
      "Friends_circle_size          0\n",
      "Post_frequency               0\n",
      "Personality                  0\n",
      "dtype: int64\n"
     ]
    }
   ],
   "source": [
    "# Imputación.\n",
    "\n",
    "\"\"\" \n",
    "Se proceden a imputar los valores nulos de los atributos del dataset.\n",
    "- Para atributos continuos, se utilizará la mediana.\n",
    "- Para atributos categóricos, se utilizará la moda.\n",
    "\"\"\"\n",
    "\n",
    "# Columnas numéricas.\n",
    "numeric_cols = ['Time_spent_Alone', 'Social_event_attendance', 'Going_outside',\n",
    "            'Friends_circle_size', 'Post_frequency']\n",
    "\n",
    "for columna in numeric_cols:\n",
    "    mediana = dataset[columna].median()\n",
    "    dataset[columna] = dataset[columna].fillna(mediana)\n",
    "\n",
    "# Columnas categóricas.\n",
    "categoric_cols = ['Stage_fear', 'Drained_after_socializing']\n",
    "\n",
    "for columna in categoric_cols:\n",
    "    moda = dataset[columna].mode()[0]\n",
    "    dataset[columna] = dataset[columna].fillna(moda)\n",
    "\n",
    "# Verificación.\n",
    "print(\"\\nValores faltantes por atributo:\")\n",
    "print(dataset.isnull().sum())"
   ]
  },
  {
   "cell_type": "markdown",
   "id": "586109f5",
   "metadata": {},
   "source": [
    "#### INTEGRACIÓN\n",
    "No se integraron fuentes externas; todo el análisis se realiza sobre un único CSV consistente.\n",
    "\n",
    "Si se sumaran tablas adicionales, acá se unificarían y reconciliarían claves."
   ]
  },
  {
   "cell_type": "markdown",
   "id": "ea61c102",
   "metadata": {},
   "source": [
    "#### SELECCIÓN\n",
    "No fue necesario quitar ninguna columna, se analizó y concluyó que todas eran representativas para poder predecir si\n",
    "una persona es extrovertida o introvertida."
   ]
  },
  {
   "cell_type": "markdown",
   "id": "18c0e008",
   "metadata": {},
   "source": [
    "#### TRANSFORMACIÓN\n",
    "Se convierten las variables al formato requerido por los algoritmos:\n",
    "- Los atributos categóricos simples y el atributo clasificador pasan por codificación binaria.\n",
    "\n",
    "El escalado se realiza dentro de los pipelines y solo con el train para evitar data leakage."
   ]
  },
  {
   "cell_type": "code",
   "execution_count": 11,
   "id": "814d9796",
   "metadata": {},
   "outputs": [
    {
     "data": {
      "text/html": [
       "<div>\n",
       "<style scoped>\n",
       "    .dataframe tbody tr th:only-of-type {\n",
       "        vertical-align: middle;\n",
       "    }\n",
       "\n",
       "    .dataframe tbody tr th {\n",
       "        vertical-align: top;\n",
       "    }\n",
       "\n",
       "    .dataframe thead th {\n",
       "        text-align: right;\n",
       "    }\n",
       "</style>\n",
       "<table border=\"1\" class=\"dataframe\">\n",
       "  <thead>\n",
       "    <tr style=\"text-align: right;\">\n",
       "      <th></th>\n",
       "      <th>Time_spent_Alone</th>\n",
       "      <th>Stage_fear</th>\n",
       "      <th>Social_event_attendance</th>\n",
       "      <th>Going_outside</th>\n",
       "      <th>Drained_after_socializing</th>\n",
       "      <th>Friends_circle_size</th>\n",
       "      <th>Post_frequency</th>\n",
       "      <th>Personality</th>\n",
       "    </tr>\n",
       "  </thead>\n",
       "  <tbody>\n",
       "    <tr>\n",
       "      <th>0</th>\n",
       "      <td>4.0</td>\n",
       "      <td>0</td>\n",
       "      <td>4.0</td>\n",
       "      <td>6.0</td>\n",
       "      <td>0</td>\n",
       "      <td>13.0</td>\n",
       "      <td>5.0</td>\n",
       "      <td>1</td>\n",
       "    </tr>\n",
       "    <tr>\n",
       "      <th>1</th>\n",
       "      <td>9.0</td>\n",
       "      <td>1</td>\n",
       "      <td>0.0</td>\n",
       "      <td>0.0</td>\n",
       "      <td>1</td>\n",
       "      <td>0.0</td>\n",
       "      <td>3.0</td>\n",
       "      <td>0</td>\n",
       "    </tr>\n",
       "    <tr>\n",
       "      <th>2</th>\n",
       "      <td>9.0</td>\n",
       "      <td>1</td>\n",
       "      <td>1.0</td>\n",
       "      <td>2.0</td>\n",
       "      <td>1</td>\n",
       "      <td>5.0</td>\n",
       "      <td>2.0</td>\n",
       "      <td>0</td>\n",
       "    </tr>\n",
       "    <tr>\n",
       "      <th>3</th>\n",
       "      <td>0.0</td>\n",
       "      <td>0</td>\n",
       "      <td>6.0</td>\n",
       "      <td>7.0</td>\n",
       "      <td>0</td>\n",
       "      <td>14.0</td>\n",
       "      <td>8.0</td>\n",
       "      <td>1</td>\n",
       "    </tr>\n",
       "    <tr>\n",
       "      <th>4</th>\n",
       "      <td>3.0</td>\n",
       "      <td>0</td>\n",
       "      <td>9.0</td>\n",
       "      <td>4.0</td>\n",
       "      <td>0</td>\n",
       "      <td>8.0</td>\n",
       "      <td>5.0</td>\n",
       "      <td>1</td>\n",
       "    </tr>\n",
       "  </tbody>\n",
       "</table>\n",
       "</div>"
      ],
      "text/plain": [
       "   Time_spent_Alone  Stage_fear  Social_event_attendance  Going_outside  \\\n",
       "0               4.0           0                      4.0            6.0   \n",
       "1               9.0           1                      0.0            0.0   \n",
       "2               9.0           1                      1.0            2.0   \n",
       "3               0.0           0                      6.0            7.0   \n",
       "4               3.0           0                      9.0            4.0   \n",
       "\n",
       "   Drained_after_socializing  Friends_circle_size  Post_frequency  Personality  \n",
       "0                          0                 13.0             5.0            1  \n",
       "1                          1                  0.0             3.0            0  \n",
       "2                          1                  5.0             2.0            0  \n",
       "3                          0                 14.0             8.0            1  \n",
       "4                          0                  8.0             5.0            1  "
      ]
     },
     "execution_count": 11,
     "metadata": {},
     "output_type": "execute_result"
    }
   ],
   "source": [
    "\"\"\" \n",
    "Se aplica una transformación binaria dado que son atributos categóricos simples.\n",
    "No son multiclase. Si lo fueran se utilizaría:\n",
    "- One hot encoding (para clases sin orden).\n",
    "- Label encoding (para clases con orden).\n",
    "Se aplica un escalado para atributos continuos que será realizado en los respectivos\n",
    "training set para evitar data leakage.\n",
    "\"\"\"\n",
    "\n",
    "# Transformación binaria para atributos.\n",
    "dataset[\"Stage_fear\"] = dataset[\"Stage_fear\"].map({ 'Yes': 1, 'No': 0 })\n",
    "dataset[\"Drained_after_socializing\"] = dataset[\"Drained_after_socializing\"].map({ 'Yes': 1, 'No': 0 })\n",
    "\n",
    "# Transformación binaria para atributo clasificador.\n",
    "dataset[\"Personality\"] = dataset[\"Personality\"].map({ 'Extrovert': 1, 'Introvert': 0 })\n",
    "\n",
    "dataset.head()"
   ]
  },
  {
   "cell_type": "code",
   "execution_count": 12,
   "id": "ce87fc67",
   "metadata": {},
   "outputs": [
    {
     "data": {
      "text/plain": [
       "'\\nSe aplica un escalado con StandardScaler() para los atributos continuos.\\nEste escalado se aplica en el training set al momento de hacer el split, y no\\nen todo el dataset dado que provoca filtración de data y eso puede sesgar las métricas\\nde los modelos (el test set gana información sobre el training set que no debería saber).\\n'"
      ]
     },
     "execution_count": 12,
     "metadata": {},
     "output_type": "execute_result"
    }
   ],
   "source": [
    "\"\"\"\n",
    "Se aplica un escalado con StandardScaler() para los atributos continuos.\n",
    "Este escalado se aplica en el training set al momento de hacer el split, y no\n",
    "en todo el dataset dado que provoca filtración de data y eso puede sesgar las métricas\n",
    "de los modelos (el test set gana información sobre el training set que no debería saber).\n",
    "\"\"\""
   ]
  },
  {
   "cell_type": "markdown",
   "id": "fe659dc5",
   "metadata": {},
   "source": [
    "#### MINERÍA Y EVALUACIÓN\n",
    "Se entrenan tres algoritmos (Logistic Regression, Random Forest y KNN) con tres enfoques:\n",
    "- Split 80/20.\n",
    "- Cross-validation.\n",
    "- Cross-validation + Grid search.\n",
    "\n",
    "Se reportan las siguientes métricas:\n",
    "- Accuracy (Métrica principal)\n",
    "- Precision\n",
    "- Recall\n",
    "- F1 Score\n",
    "- Matriz de confusión"
   ]
  },
  {
   "cell_type": "code",
   "execution_count": 13,
   "id": "0364d3b3",
   "metadata": {},
   "outputs": [],
   "source": [
    "## REGRESIÓN LOGÍSTICA:\n",
    "\n",
    "\"\"\" \n",
    "Se genera un pipeline el cual procura que el modelo ESCALE los valores continuos\n",
    "SOLO en cada respectivo training set, esto evita que haya filtrado de data en el\n",
    "test set y el modelo dé métricas un poco sesgadas.\n",
    "\"\"\"\n",
    "\n",
    "pipe_LR = Pipeline([\n",
    "    (\"continuos\", StandardScaler()),\n",
    "    (\"modelo\", LogisticRegression(random_state=42, max_iter=1000))\n",
    "])"
   ]
  },
  {
   "cell_type": "code",
   "execution_count": 14,
   "id": "845b9c3a",
   "metadata": {},
   "outputs": [
    {
     "name": "stdout",
     "output_type": "stream",
     "text": [
      "\n",
      "Regresión Logística - Split 80/20:\n",
      "Accuracy : 0.9120689655172414\n",
      "Precision: 0.9081272084805654\n",
      "Recall   : 0.9113475177304965\n",
      "F1 Score : 0.9097345132743363\n",
      "\n",
      "Matriz de confusión:\n",
      "[[257  25]\n",
      " [ 26 272]]\n"
     ]
    }
   ],
   "source": [
    "## Primera iteración: Regresión logística Split 80-20\n",
    "\n",
    "atributos_train, atributos_test, clasificador_train, clasificador_test = split_80_20(dataset)\n",
    "\n",
    "# Entrenar con el training set\n",
    "pipe_LR.fit(atributos_train, clasificador_train)\n",
    "\n",
    "# Predecir sobre el test set\n",
    "clasificador_predicho = pipe_LR.predict(atributos_test)\n",
    "\n",
    "# Evaluar resultados\n",
    "show_results(clasificador_test, clasificador_predicho, title=\"Regresión Logística - Split 80/20\")"
   ]
  },
  {
   "cell_type": "code",
   "execution_count": 15,
   "id": "d8e66a18",
   "metadata": {},
   "outputs": [
    {
     "name": "stdout",
     "output_type": "stream",
     "text": [
      "\n",
      "Regresión Logística - Cross-validation:\n",
      "Accuracy : 0.9175862068965517\n",
      "Precision: 0.9202586206896551\n",
      "Recall   : 0.9091554293825408\n",
      "F1 Score : 0.914673330953231\n",
      "\n",
      "Matriz de confusión:\n",
      "[[1281  128]\n",
      " [ 111 1380]]\n"
     ]
    }
   ],
   "source": [
    "## Segunda iteración: Regresión logística Cross-validation\n",
    "\n",
    "atributos = dataset.drop(\"Personality\", axis=1)\n",
    "clasificador = dataset[\"Personality\"]\n",
    "\n",
    "# Cross-validation estratificada (para mantener la misma proporción de clases)\n",
    "cv5 = StratifiedKFold(n_splits=5, shuffle=True, random_state=42)\n",
    "\n",
    "clasificador_predicho = cross_val_predict(\n",
    "    estimator=pipe_LR,\n",
    "    X=atributos,\n",
    "    y=clasificador,\n",
    "    cv=cv5,\n",
    "    n_jobs=-1\n",
    ")\n",
    "\n",
    "# Evaluar resultados\n",
    "show_results(clasificador, clasificador_predicho, title=\"Regresión Logística - Cross-validation\")"
   ]
  },
  {
   "cell_type": "code",
   "execution_count": 16,
   "id": "6336d246",
   "metadata": {},
   "outputs": [
    {
     "name": "stdout",
     "output_type": "stream",
     "text": [
      "Mejor combinación de hiperparámetros [Regresión Logística]:\n",
      "{'modelo__C': 0.01, 'modelo__penalty': 'l2', 'modelo__solver': 'lbfgs'}\n",
      "\n",
      "Regresión Logística - Cross-validation + Grid Search:\n",
      "Accuracy : 0.9341379310344827\n",
      "Precision: 0.9229166666666667\n",
      "Recall   : 0.943222143364088\n",
      "F1 Score : 0.932958932958933\n",
      "\n",
      "Matriz de confusión:\n",
      "[[1329   80]\n",
      " [ 111 1380]]\n"
     ]
    }
   ],
   "source": [
    "## Tercera iteración: Regresión logística Cross-validation + Grid Search\n",
    "\n",
    "# Hiperparámetros a probar con Grid Search\n",
    "parametros_LR = {\n",
    "    \"modelo__C\": [0.01, 0.1, 1, 10, 100],\n",
    "    \"modelo__penalty\": [\"l2\"],\n",
    "    \"modelo__solver\": [\"lbfgs\", \"liblinear\"]\n",
    "}\n",
    "\n",
    "# Cross-validation estratificada (para mantener la misma proporción de clases)\n",
    "cv5 = StratifiedKFold(n_splits=5, shuffle=True, random_state=42)\n",
    "\n",
    "# Grid search\n",
    "grid_LR = GridSearchCV(\n",
    "    estimator=pipe_LR,\n",
    "    param_grid=parametros_LR,\n",
    "    scoring=\"accuracy\",\n",
    "    cv=cv5,\n",
    "    return_train_score=False,\n",
    "    n_jobs=-1\n",
    ")\n",
    "\n",
    "# Ajuste con el training\n",
    "grid_LR.fit(atributos, clasificador)\n",
    "print(\"Mejor combinación de hiperparámetros [Regresión Logística]:\")\n",
    "print(grid_LR.best_params_)\n",
    "\n",
    "# Modelo optimizado\n",
    "mejor_LR = grid_LR.best_estimator_\n",
    "\n",
    "clasificador_predicho = cross_val_predict(\n",
    "    estimator=mejor_LR,\n",
    "    X=atributos,\n",
    "    y=clasificador,\n",
    "    cv=cv5,\n",
    "    n_jobs=-1\n",
    ")\n",
    "\n",
    "# Evaluar resultados\n",
    "show_results(clasificador, clasificador_predicho, title=\"Regresión Logística - Cross-validation + Grid Search\")"
   ]
  },
  {
   "cell_type": "code",
   "execution_count": 17,
   "id": "db099d11",
   "metadata": {},
   "outputs": [],
   "source": [
    "## RANDOM FOREST:\n",
    "\n",
    "\"\"\"\n",
    "Se genera un pipeline que mantiene el mismo patrón que en Regresión Logística.\n",
    "En Random Forest el escalado no es necesario, pero lo dejamos para mantener\n",
    "una estructura uniforme y evitar cambios entre iteraciones.\n",
    "\"\"\"\n",
    "\n",
    "pipe_RF = Pipeline([\n",
    "    (\"continuos\", StandardScaler()),\n",
    "    (\"modelo\", RandomForestClassifier(random_state=42))\n",
    "])"
   ]
  },
  {
   "cell_type": "code",
   "execution_count": 18,
   "id": "5f8e863d",
   "metadata": {},
   "outputs": [
    {
     "name": "stdout",
     "output_type": "stream",
     "text": [
      "\n",
      "Random Forest - Split 80/20:\n",
      "Accuracy : 0.9086206896551724\n",
      "Precision: 0.8989547038327527\n",
      "Recall   : 0.9148936170212766\n",
      "F1 Score : 0.9068541300527241\n",
      "\n",
      "Matriz de confusión:\n",
      "[[258  24]\n",
      " [ 29 269]]\n"
     ]
    }
   ],
   "source": [
    "## Primera iteración: Random Forest Split 80-20\n",
    "\n",
    "# División en training y test (usa tu helper existente)\n",
    "atributos_train, atributos_test, clasificador_train, clasificador_test = split_80_20(dataset)\n",
    "\n",
    "# Entrenar con el training set\n",
    "pipe_RF.fit(atributos_train, clasificador_train)\n",
    "\n",
    "# Predecir sobre el test set\n",
    "clasificador_predicho = pipe_RF.predict(atributos_test)\n",
    "\n",
    "# Evaluar resultados\n",
    "show_results(clasificador_test, clasificador_predicho, title=\"Random Forest - Split 80/20\")"
   ]
  },
  {
   "cell_type": "code",
   "execution_count": 19,
   "id": "c7287d85",
   "metadata": {},
   "outputs": [
    {
     "name": "stdout",
     "output_type": "stream",
     "text": [
      "\n",
      "Random Forest - Cross-validation:\n",
      "Accuracy : 0.9193103448275862\n",
      "Precision: 0.9151943462897526\n",
      "Recall   : 0.9190915542938254\n",
      "F1 Score : 0.9171388101983002\n",
      "\n",
      "Matriz de confusión:\n",
      "[[1295  114]\n",
      " [ 120 1371]]\n"
     ]
    }
   ],
   "source": [
    "## Segunda iteración: Random Forest Cross-validation\n",
    "\n",
    "atributos = dataset.drop(\"Personality\", axis=1)\n",
    "clasificador = dataset[\"Personality\"]\n",
    "\n",
    "# Cross-validation estratificada (para mantener la misma proporción de clases)\n",
    "cv5 = StratifiedKFold(n_splits=5, shuffle=True, random_state=42)\n",
    "\n",
    "clasificador_predicho = cross_val_predict(\n",
    "    estimator=pipe_RF,\n",
    "    X=atributos,\n",
    "    y=clasificador,\n",
    "    cv=cv5,\n",
    "    n_jobs=-1\n",
    ")\n",
    "\n",
    "# Evaluar resultados\n",
    "show_results(clasificador, clasificador_predicho, title=\"Random Forest - Cross-validation\")"
   ]
  },
  {
   "cell_type": "code",
   "execution_count": 20,
   "id": "0445e405",
   "metadata": {},
   "outputs": [
    {
     "name": "stdout",
     "output_type": "stream",
     "text": [
      "Mejor combinación de hiperparámetros [Random Forest]:\n",
      "{'modelo__max_depth': 5, 'modelo__n_estimators': 50}\n",
      "\n",
      "Random Forest - Cross-validation + Grid Search:\n",
      "Accuracy : 0.9344827586206896\n",
      "Precision: 0.922970159611381\n",
      "Recall   : 0.9439318665720369\n",
      "F1 Score : 0.9333333333333333\n",
      "\n",
      "Matriz de confusión:\n",
      "[[1330   79]\n",
      " [ 111 1380]]\n"
     ]
    }
   ],
   "source": [
    "## Tercera iteración: Random Forest Cross-validation + Grid Search\n",
    "\n",
    "# Hiperparámetros a probar con Grid Search\n",
    "parametros_RF = {\n",
    "    \"modelo__n_estimators\": [50, 100, 150, 200, 250, 300],\n",
    "    \"modelo__max_depth\": [5, 10, 15, 20, 25, 30],\n",
    "    # \"modelo__min_samples_split\": [2, 5, 10],\n",
    "    # \"modelo__min_samples_leaf\": [1, 2, 4],\n",
    "    # \"modelo__max_features\": [\"sqrt\", \"log2\", None]\n",
    "}\n",
    "\n",
    "# Cross-validation estratificada (para mantener la misma proporción de clases)\n",
    "cv5 = StratifiedKFold(n_splits=5, shuffle=True, random_state=42)\n",
    "\n",
    "# Grid search\n",
    "grid_RF = GridSearchCV(\n",
    "    estimator=pipe_RF,\n",
    "    param_grid=parametros_RF,\n",
    "    scoring=\"accuracy\",\n",
    "    cv=cv5,\n",
    "    return_train_score=False,\n",
    "    n_jobs=-1\n",
    ")\n",
    "\n",
    "# Ajuste con el training\n",
    "grid_RF.fit(atributos, clasificador)\n",
    "print(\"Mejor combinación de hiperparámetros [Random Forest]:\")\n",
    "print(grid_RF.best_params_)\n",
    "\n",
    "# Modelo optimizado\n",
    "mejor_RF = grid_RF.best_estimator_\n",
    "\n",
    "clasificador_predicho = cross_val_predict(\n",
    "    estimator=mejor_RF,\n",
    "    X=atributos,\n",
    "    y=clasificador,\n",
    "    cv=cv5,\n",
    "    n_jobs=-1\n",
    ")\n",
    "\n",
    "# Evaluar resultados\n",
    "show_results(clasificador, clasificador_predicho, title=\"Random Forest - Cross-validation + Grid Search\")"
   ]
  },
  {
   "cell_type": "code",
   "execution_count": 21,
   "id": "926da29b",
   "metadata": {},
   "outputs": [],
   "source": [
    "## K-NEAREST NEIGHBORS:\n",
    "\n",
    "\"\"\"\n",
    "Se genera un pipeline que escala los atributos antes de KNN.\n",
    "En KNN el escalado es CRÍTICO porque las distancias se distorsionan si las\n",
    "variables tienen magnitudes diferentes. El pipeline evita fuga de datos.\n",
    "\"\"\"\n",
    "\n",
    "pipe_KNN = Pipeline([\n",
    "    (\"continuos\", StandardScaler()),\n",
    "    (\"modelo\", KNeighborsClassifier())\n",
    "])"
   ]
  },
  {
   "cell_type": "code",
   "execution_count": 22,
   "id": "d8284c3c",
   "metadata": {},
   "outputs": [
    {
     "name": "stdout",
     "output_type": "stream",
     "text": [
      "\n",
      "K-Nearest Neighbors - Split 80/20:\n",
      "Accuracy : 0.9189655172413793\n",
      "Precision: 0.9010238907849829\n",
      "Recall   : 0.9361702127659575\n",
      "F1 Score : 0.9182608695652174\n",
      "\n",
      "Matriz de confusión:\n",
      "[[264  18]\n",
      " [ 29 269]]\n"
     ]
    }
   ],
   "source": [
    "## Primera iteración: KNN Split 80-20\n",
    "\n",
    "# División en training y test\n",
    "atributos_train, atributos_test, clasificador_train, clasificador_test = split_80_20(dataset)\n",
    "\n",
    "# Entrenar con el training set\n",
    "pipe_KNN.fit(atributos_train, clasificador_train)\n",
    "\n",
    "# Predecir sobre el test set\n",
    "clasificador_predicho = pipe_KNN.predict(atributos_test)\n",
    "\n",
    "# Evaluar resultados\n",
    "show_results(clasificador_test, clasificador_predicho, title=\"K-Nearest Neighbors - Split 80/20\")"
   ]
  },
  {
   "cell_type": "code",
   "execution_count": 23,
   "id": "9dd6ff58",
   "metadata": {},
   "outputs": [
    {
     "name": "stdout",
     "output_type": "stream",
     "text": [
      "\n",
      "K-Nearest Neighbors - Cross-validation:\n",
      "Accuracy : 0.9262068965517242\n",
      "Precision: 0.9152189020152884\n",
      "Recall   : 0.9347054648687012\n",
      "F1 Score : 0.9248595505617978\n",
      "\n",
      "Matriz de confusión:\n",
      "[[1317   92]\n",
      " [ 122 1369]]\n"
     ]
    }
   ],
   "source": [
    "## Segunda iteración: KNN Cross-validation\n",
    "\n",
    "atributos = dataset.drop(\"Personality\", axis=1)\n",
    "clasificador = dataset[\"Personality\"]\n",
    "\n",
    "# Cross-validation estratificada (misma proporción de clases en cada fold)\n",
    "cv5 = StratifiedKFold(n_splits=5, shuffle=True, random_state=42)\n",
    "\n",
    "clasificador_predicho = cross_val_predict(\n",
    "    estimator=pipe_KNN,\n",
    "    X=atributos,\n",
    "    y=clasificador,\n",
    "    cv=cv5,\n",
    "    n_jobs=-1\n",
    ")\n",
    "\n",
    "# Evaluar resultados\n",
    "show_results(clasificador, clasificador_predicho, title=\"K-Nearest Neighbors - Cross-validation\")"
   ]
  },
  {
   "cell_type": "code",
   "execution_count": 24,
   "id": "7e2ac7b3",
   "metadata": {},
   "outputs": [
    {
     "name": "stdout",
     "output_type": "stream",
     "text": [
      "Mejor combinación de hiperparámetros [KNN]:\n",
      "{'modelo__metric': 'manhattan', 'modelo__n_neighbors': 11, 'modelo__weights': 'uniform'}\n",
      "\n",
      "K-Nearest Neighbors - Cross-validation + Grid Search:\n",
      "Accuracy : 0.9344827586206896\n",
      "Precision: 0.9223839223839224\n",
      "Recall   : 0.9446415897799858\n",
      "F1 Score : 0.9333800841514727\n",
      "\n",
      "Matriz de confusión:\n",
      "[[1331   78]\n",
      " [ 112 1379]]\n"
     ]
    }
   ],
   "source": [
    "## Tercera iteración: KNN Cross-validation + Grid Search\n",
    "\n",
    "# Hiperparámetros a probar con Grid Search\n",
    "parametros_KNN = {\n",
    "    \"modelo__n_neighbors\": [3, 5, 7, 9, 11],\n",
    "    \"modelo__weights\": [\"uniform\", \"distance\"],\n",
    "    \"modelo__metric\": [\"euclidean\", \"manhattan\"]\n",
    "}\n",
    "\n",
    "# Cross-validation estratificada (para mantener la misma proporción de clases)\n",
    "cv5 = StratifiedKFold(n_splits=5, shuffle=True, random_state=42)\n",
    "\n",
    "# Grid search\n",
    "grid_KNN = GridSearchCV(\n",
    "    estimator=pipe_KNN,\n",
    "    param_grid=parametros_KNN,\n",
    "    scoring=\"accuracy\",\n",
    "    cv=cv5,\n",
    "    return_train_score=False,\n",
    "    n_jobs=-1\n",
    ")\n",
    "\n",
    "# Ajuste con el training\n",
    "grid_KNN.fit(atributos, clasificador)\n",
    "print(\"Mejor combinación de hiperparámetros [KNN]:\")\n",
    "print(grid_KNN.best_params_)\n",
    "\n",
    "# Modelo optimizado\n",
    "mejor_KNN = grid_KNN.best_estimator_\n",
    "\n",
    "clasificador_predicho = cross_val_predict(\n",
    "    estimator=mejor_KNN,\n",
    "    X=atributos,\n",
    "    y=clasificador,\n",
    "    cv=cv5,\n",
    "    n_jobs=-1\n",
    ")\n",
    "\n",
    "show_results(clasificador, clasificador_predicho, title=\"K-Nearest Neighbors - Cross-validation + Grid Search\")"
   ]
  }
 ],
 "metadata": {
  "kernelspec": {
   "display_name": "venv (3.13.5)",
   "language": "python",
   "name": "python3"
  },
  "language_info": {
   "codemirror_mode": {
    "name": "ipython",
    "version": 3
   },
   "file_extension": ".py",
   "mimetype": "text/x-python",
   "name": "python",
   "nbconvert_exporter": "python",
   "pygments_lexer": "ipython3",
   "version": "3.13.5"
  }
 },
 "nbformat": 4,
 "nbformat_minor": 5
}
